{
 "cells": [
  {
   "cell_type": "code",
   "execution_count": 111,
   "id": "b4d7d8b0",
   "metadata": {},
   "outputs": [],
   "source": [
    "import pandas as pd\n",
    "\n",
    "from pathlib import Path\n",
    "import panel as pn\n",
    "from panel.interact import interact\n",
    "import plotly.express as px\n",
    "pn.extension(\"plotly\")\n",
    "import hvplot.pandas\n",
    "import matplotlib.pyplot as plt\n",
    "import os\n",
    "from dotenv import load_dotenv\n",
    "import requests\n",
    "import json\n",
    "from datetime import datetime\n",
    "\n",
    "import seaborn as sns\n",
    "%matplotlib inline\n",
    "\n",
    "file_path2 = Path(\"folder/subfolder/df_Merged.csv\")\n",
    "df_merged = pd.read_csv(file_path2, index_col=\"DATE\")\n",
    "\n",
    "\n",
    "file_path = Path(\"folder/subfolder/Percentage_change.csv\")\n",
    "df_percentchange = pd.read_csv(file_path, index_col=\"DATE\")\n",
    "\n",
    "file_path3 = Path(\"folder/subfolder/mcsimulation.csv\")\n",
    "mcsimulation = pd.read_csv(file_path3)\n"
   ]
  },
  {
   "cell_type": "code",
   "execution_count": 112,
   "id": "cfd05b38",
   "metadata": {},
   "outputs": [],
   "source": [
    "def currency_1():\n",
    "    \n",
    "    Percentage_change= df_percentchange.plot(title=\"Cryptocurrencies Percent Change Since 05/10/19\", figsize=(18, 15))\n",
    " \n",
    "    return Percentage_change"
   ]
  },
  {
   "cell_type": "code",
   "execution_count": 113,
   "id": "c4b51cd5",
   "metadata": {},
   "outputs": [],
   "source": [
    "def currency_2():\n",
    "    \n",
    "    Percentage_change_Correlation=df_percentchange.plot(kind='scatter', x='ETH', y='BTC', title=\"Percent Change Correlation - BTC vs. ETH\")\n",
    "    \n",
    "    return Percentage_change_Correlation"
   ]
  },
  {
   "cell_type": "code",
   "execution_count": 114,
   "id": "acf5152d",
   "metadata": {},
   "outputs": [],
   "source": [
    "def currency_3():\n",
    "    \n",
    "    Eth_Btc_PriceChange = df_merged.plot(kind='scatter', x='ETH', y='BTC', title=\"Price Change Correlation - BTC vs ETH\")\n",
    "\n",
    "    return Eth_Btc_PriceChange "
   ]
  },
  {
   "cell_type": "code",
   "execution_count": 115,
   "id": "5cf90dd3",
   "metadata": {},
   "outputs": [],
   "source": [
    "def currency_5():\n",
    "\n",
    "    heat_map = sns.heatmap(correlation, vmin=-1, vmax=1)\n",
    "    \n",
    "    return heat_map"
   ]
  },
  {
   "cell_type": "code",
   "execution_count": 116,
   "id": "df7a37b4",
   "metadata": {},
   "outputs": [],
   "source": [
    "def currency_6():\n",
    "    \n",
    "    prices = df_merged.plot.area(figsize = (12,12), subplots=True, title=\"Crypto Prices\")\n",
    "\n",
    "    return prices"
   ]
  },
  {
   "cell_type": "code",
   "execution_count": 117,
   "id": "4d87403b",
   "metadata": {},
   "outputs": [],
   "source": [
    "def currency_7():\n",
    "    \n",
    "    # Plot a rolling 7-day mean of Crypto's closing prices\n",
    "    seven_daymean = df_merged.rolling(window=7).mean().plot(figsize = (12,12), subplots=True)\n",
    "\n",
    "    return seven_daymean"
   ]
  },
  {
   "cell_type": "code",
   "execution_count": 118,
   "id": "dac7fa44",
   "metadata": {},
   "outputs": [],
   "source": [
    "def currency_8():\n",
    "    \n",
    "    # Plot a rolling 7-day std dev of Crypto's closing prices\n",
    "    seven_day_Deviation = df_merged.rolling(window=7).std().plot(figsize = (12,12), subplots=True)\n",
    "\n",
    "    return seven_day_Deviation"
   ]
  },
  {
   "cell_type": "code",
   "execution_count": 119,
   "id": "637fa6a8",
   "metadata": {},
   "outputs": [],
   "source": [
    "def currency_9():\n",
    "    \n",
    "    # Plot a rolling 30-day mean of Crypto's closing prices\n",
    "    Thirty_mean_Closing =df_merged.rolling(window=30).mean().plot(figsize = (12,12), subplots=True)\n",
    "\n",
    "    return Thirty_mean_Closing"
   ]
  },
  {
   "cell_type": "code",
   "execution_count": 120,
   "id": "82047915",
   "metadata": {},
   "outputs": [],
   "source": [
    "def currency_10():\n",
    "    \n",
    "    # Plot a rolling 30-day std dev of Crypto's closing prices\n",
    "    Thirty_STD_Closing = df_merged.rolling(window=30).std().plot(figsize = (12,12), subplots=True)\n",
    "\n",
    "    return Thirty_STD_Closing"
   ]
  },
  {
   "cell_type": "code",
   "execution_count": 121,
   "id": "2442fdfc",
   "metadata": {},
   "outputs": [],
   "source": [
    "def currency_11():\n",
    "    \n",
    "    # Plot a rolling 180-day mean of Crypto's closing prices\n",
    "    Three_Month_mean= df_merged.rolling(window=180).mean().plot(figsize = (12,12), subplots=True)\n",
    "\n",
    "    return Three_Month_mean"
   ]
  },
  {
   "cell_type": "code",
   "execution_count": 122,
   "id": "c2aec86e",
   "metadata": {},
   "outputs": [],
   "source": [
    "def currency_12():\n",
    "    \n",
    "    # Plot a rolling 180-day std dev of Crypto's closing prices\n",
    "    Three_Month_STD= df_merged.rolling(window=180).std().plot(figsize = (12,12), subplots=True)\n",
    "\n",
    "    return Three_Month_STD"
   ]
  },
  {
   "cell_type": "code",
   "execution_count": 123,
   "id": "367d6c03",
   "metadata": {},
   "outputs": [],
   "source": [
    "def currency_18():\n",
    "    \n",
    "    McSim = mcsimulation.plot(legend=False, figsize=(15,15))\n",
    "    \n",
    "    return McSim"
   ]
  },
  {
   "cell_type": "code",
   "execution_count": 124,
   "id": "571f4f8c",
   "metadata": {},
   "outputs": [],
   "source": [
    "def currency_19():\n",
    "    ax = mcsimulation.plot.hist( figsize=(10, 8), legend=False)\n",
    "    \n",
    "    return ax"
   ]
  },
  {
   "cell_type": "code",
   "execution_count": 129,
   "id": "5f87840e",
   "metadata": {},
   "outputs": [
    {
     "ename": "SyntaxError",
     "evalue": "invalid syntax (396859395.py, line 50)",
     "output_type": "error",
     "traceback": [
      "\u001b[0;36m  File \u001b[0;32m\"/var/folders/qg/xszn0rxd6x92fmmlg_xmg1sw0000gn/T/ipykernel_68516/396859395.py\"\u001b[0;36m, line \u001b[0;32m50\u001b[0m\n\u001b[0;31m    panel = pn.Tabs(\u001b[0m\n\u001b[0m        ^\u001b[0m\n\u001b[0;31mSyntaxError\u001b[0m\u001b[0;31m:\u001b[0m invalid syntax\n"
     ]
    }
   ],
   "source": [
    "# Create a Title for the Dashboard\n",
    "\n",
    "Info = pn.pane.Markdown(\n",
    "\"\"\"\"\n",
    "    \n",
    "    Info ,\n",
    "    1- Historical Price Action,\n",
    "    2- Deviation,\n",
    "    3- Futures and Forecasts,\n",
    "    4- Closing\n",
    "   \"\"\"\n",
    ")\n",
    "\n",
    "\n",
    "tab_1 = pn.Column(\n",
    "    (\"#Closing Prices over numerous time periods\"),\n",
    "    (\"#Including Moving Averages\"),\n",
    "    prices,\n",
    "    seven_daymean,\n",
    "    Thirty_mean_Closing,\n",
    "    Three_Month_mean\n",
    ")\n",
    "\n",
    "tab_2 = pn.Column(\n",
    "    (\"#Deviation and Correlation\"),\n",
    "    Percentage_change,\n",
    "    Percentage_change_Correlation,\n",
    "    Eth_Btc_PriceChange,\n",
    "    heat_map,\n",
    "    seven_day_Deviation,\n",
    "    Thirty_STD_Closing,\n",
    "    Three_Month_STD\n",
    "    \n",
    ")\n",
    "\n",
    "\n",
    "tab_3 = pn.Column(\n",
    "    (\"#Statistical Possibilities\"),\n",
    "    McSim,\n",
    "    ax\n",
    ")\n",
    "\n",
    "tab_4 = pn.Column(\n",
    "    (\"#About\")\n",
    "\n",
    "\n",
    "\n",
    "# Create the dashboard\n",
    "\n",
    "panel = pn.Tabs(\n",
    "    (\"Intro\",Info),\n",
    "    (\"Historical Price Action\", tab_1),\n",
    "    (\"Deviation\", tab_2),\n",
    "    (\"Futures and Forecasts\", tab_3),\n",
    "    (\"About\", tab_4)\n",
    "    \n",
    ")\n",
    "\n"
   ]
  },
  {
   "cell_type": "code",
   "execution_count": null,
   "id": "68347e6f",
   "metadata": {},
   "outputs": [],
   "source": []
  },
  {
   "cell_type": "code",
   "execution_count": null,
   "id": "cc117ecc",
   "metadata": {},
   "outputs": [],
   "source": []
  }
 ],
 "metadata": {
  "kernelspec": {
   "display_name": "Python [conda env:pyvizenv] *",
   "language": "python",
   "name": "conda-env-pyvizenv-py"
  },
  "language_info": {
   "codemirror_mode": {
    "name": "ipython",
    "version": 3
   },
   "file_extension": ".py",
   "mimetype": "text/x-python",
   "name": "python",
   "nbconvert_exporter": "python",
   "pygments_lexer": "ipython3",
   "version": "3.7.11"
  }
 },
 "nbformat": 4,
 "nbformat_minor": 5
}
