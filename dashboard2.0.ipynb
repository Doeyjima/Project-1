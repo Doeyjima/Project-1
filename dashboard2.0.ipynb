{
 "cells": [
  {
   "cell_type": "code",
   "execution_count": 81,
   "id": "e2ccdfd3",
   "metadata": {},
   "outputs": [],
   "source": [
    "import pandas as pd\n",
    "\n",
    "from pathlib import Path\n",
    "import panel as pn\n",
    "from panel.interact import interact\n",
    "import plotly.express as px\n",
    "pn.extension(\"plotly\")\n",
    "import hvplot.pandas\n",
    "import matplotlib.pyplot as plt\n",
    "import os\n",
    "from dotenv import load_dotenv\n",
    "import requests\n",
    "import json\n",
    "from datetime import datetime\n",
    "\n",
    "import seaborn as sns\n",
    "%matplotlib inline\n",
    "\n",
    "file_path2 = Path(\"folder/subfolder/df_Merged.csv\")\n",
    "df_merged = pd.read_csv(file_path2, index_col=\"DATE\")\n",
    "\n",
    "\n",
    "file_path = Path(\"folder/subfolder/Percentage_change.csv\")\n",
    "df_percentchange = pd.read_csv(file_path, index_col=\"DATE\")\n",
    "\n",
    "file_path3 = Path(\"folder/subfolder/mcsimulation.csv\")\n",
    "mcsimulation = pd.read_csv(file_path3)\n"
   ]
  },
  {
   "cell_type": "code",
   "execution_count": 82,
   "id": "cfbca256-624b-4627-b683-91c4458eab74",
   "metadata": {},
   "outputs": [],
   "source": [
    "def currency_1():\n",
    "    \n",
    "    df_percentchange.plot(title=\"Cryptocurrencies Percent Change Since 05/10/19\", figsize=(18, 15))\n",
    " \n",
    "    return crypto_1"
   ]
  },
  {
   "cell_type": "code",
   "execution_count": 83,
   "id": "a28c3361-96e6-475e-9b1c-3fae8d2e851e",
   "metadata": {},
   "outputs": [],
   "source": [
    "def currency_2():\n",
    "    \n",
    "    df_percentchange.plot(kind='scatter', x='ETH', y='BTC', title=\"Percent Change Correlation - BTC vs. ETH\")\n",
    "    \n",
    "    return crypto_2"
   ]
  },
  {
   "cell_type": "code",
   "execution_count": 84,
   "id": "7055542e-f81f-4c95-a207-21255a001b6b",
   "metadata": {},
   "outputs": [],
   "source": [
    "def currency_3():\n",
    "    \n",
    "    df_merged.plot(kind='scatter', x='ETH', y='BTC', title=\"Price Change Correlation - BTC vs ETH\")\n",
    "\n",
    "    return crypto_3"
   ]
  },
  {
   "cell_type": "code",
   "execution_count": 85,
   "id": "8af856f3-3f12-4ded-95f9-e17580d27769",
   "metadata": {},
   "outputs": [],
   "source": [
    "def currency_4():\n",
    "    \n",
    "    correlation = df_merged.corr()\n",
    "\n",
    "    return crypto_4"
   ]
  },
  {
   "cell_type": "code",
   "execution_count": 86,
   "id": "96b95b52-9f31-41ab-9e1b-4f7ab7710b2d",
   "metadata": {},
   "outputs": [],
   "source": [
    "def currency_5():\n",
    "\n",
    "    sns.heatmap(correlation, vmin=-1, vmax=1)\n",
    "    \n",
    "    return crypto_5"
   ]
  },
  {
   "cell_type": "code",
   "execution_count": 87,
   "id": "d5d19ee7-4cf1-42a6-80bf-b5057c074684",
   "metadata": {},
   "outputs": [],
   "source": [
    "def currency_6():\n",
    "    \n",
    "    df_merged.plot.area(figsize = (12,12), subplots=True, title=\"Crypto Prices\")\n",
    "\n",
    "    return crypto_6"
   ]
  },
  {
   "cell_type": "code",
   "execution_count": 88,
   "id": "acffe833-a0ab-4a82-a54d-5972d5fb1596",
   "metadata": {},
   "outputs": [],
   "source": [
    "def currency_7():\n",
    "    \n",
    "    # Plot a rolling 7-day mean of Crypto's closing prices\n",
    "    df_merged.rolling(window=7).mean().plot(figsize = (12,12), subplots=True)\n",
    "\n",
    "    return crypto_7"
   ]
  },
  {
   "cell_type": "code",
   "execution_count": 89,
   "id": "cdb904ec-812c-4809-b59d-6210bf4950e8",
   "metadata": {},
   "outputs": [],
   "source": [
    "def currency_8():\n",
    "    \n",
    "    # Plot a rolling 7-day std dev of Crypto's closing prices\n",
    "    df_merged.rolling(window=7).std().plot(figsize = (12,12), subplots=True)\n",
    "\n",
    "    return crypto_8"
   ]
  },
  {
   "cell_type": "code",
   "execution_count": 90,
   "id": "a3d21a2e-a088-457e-8d9d-54c37f8e42e0",
   "metadata": {},
   "outputs": [],
   "source": [
    "def currency_9():\n",
    "    \n",
    "    # Plot a rolling 30-day mean of Crypto's closing prices\n",
    "    df_merged.rolling(window=30).mean().plot(figsize = (12,12), subplots=True)\n",
    "\n",
    "    return crypto_9"
   ]
  },
  {
   "cell_type": "code",
   "execution_count": 91,
   "id": "cc1f17be-8394-4c8d-944a-075f6cb1159e",
   "metadata": {},
   "outputs": [],
   "source": [
    "def currency_10():\n",
    "    \n",
    "    # Plot a rolling 30-day std dev of Crypto's closing prices\n",
    "    df_merged.rolling(window=30).std().plot(figsize = (12,12), subplots=True)\n",
    "\n",
    "    return crypto_10"
   ]
  },
  {
   "cell_type": "code",
   "execution_count": 92,
   "id": "fbc517a3-130b-4045-a068-3c21d7376748",
   "metadata": {},
   "outputs": [],
   "source": [
    "def currency_11():\n",
    "    \n",
    "    # Plot a rolling 180-day mean of Crypto's closing prices\n",
    "    df_merged.rolling(window=180).mean().plot(figsize = (12,12), subplots=True)\n",
    "\n",
    "    return crypto_11"
   ]
  },
  {
   "cell_type": "code",
   "execution_count": 93,
   "id": "ad95cb61-3ec3-4afa-a6a8-6a755860b616",
   "metadata": {},
   "outputs": [],
   "source": [
    "def currency_12():\n",
    "    \n",
    "    # Plot a rolling 180-day std dev of Crypto's closing prices\n",
    "    df_merged.rolling(window=180).std().plot(figsize = (12,12), subplots=True)\n",
    "\n",
    "    return crypto_12"
   ]
  },
  {
   "cell_type": "code",
   "execution_count": 94,
   "id": "7963d8cf-37be-4d88-9f49-1cb57a95bc5d",
   "metadata": {},
   "outputs": [],
   "source": [
    "def currency_13():\n",
    "    \n",
    "    btc_plot = df_merged[\"BTC\"].plot(figsize = (12,12), subplots=True, \n",
    "                                 title=\"Daily Closing Price and 180-Day Rolling Average of Bitcoin\",\n",
    "                                    legend = True)\n",
    "\n",
    "    df_merged[\"BTC\"].rolling(window=180).mean().plot(figsize = (12,12), legend = True).legend([\"BTC\",\"180-Day Rolling Average\"])\n",
    "\n",
    "    return crypto_13"
   ]
  },
  {
   "cell_type": "code",
   "execution_count": 95,
   "id": "25ae0f0f-6504-4a54-a869-fe7ee068b6d7",
   "metadata": {},
   "outputs": [],
   "source": [
    "def currency_14():\n",
    "    \n",
    "    eth_plot = df_merged[\"ETH\"].plot(figsize = (12,12), subplots=True, \n",
    "                                 title=\"Daily Closing Price and 180-Day Rolling Average of Entherum\",\n",
    "                                    legend = True)\n",
    "\n",
    "    df_merged[\"ETH\"].rolling(window=180).mean().plot(figsize = (12,12), legend = True).legend([\"ETH\",\"180-Day Rolling Average\"])\n",
    "    \n",
    "    return crypto_14"
   ]
  },
  {
   "cell_type": "code",
   "execution_count": 96,
   "id": "c6308134-01fa-48d6-bc5c-933dd69fb59d",
   "metadata": {},
   "outputs": [],
   "source": [
    "def currency_15():\n",
    "    \n",
    "    bnb_plot = df_merged[\"BNB\"].plot(figsize = (12,12), subplots=True, \n",
    "                                 title=\"Daily Closing Price and 180-Day Rolling Average of Binance\",\n",
    "                                    legend = True)\n",
    "\n",
    "    df_merged[\"BNB\"].rolling(window=180).mean().plot(figsize = (12,12), legend = True).legend([\"BNB\",\"180-Day Rolling Average\"])\n",
    "    \n",
    "    return crypto_15"
   ]
  },
  {
   "cell_type": "code",
   "execution_count": 97,
   "id": "63342ed6-c289-4ba5-8118-4578f14443a3",
   "metadata": {},
   "outputs": [],
   "source": [
    "def currency_16():\n",
    "    \n",
    "    ada_plot = df_merged[\"ADA\"].plot(figsize = (12,12), subplots=True, \n",
    "                                 title=\"Daily Closing Price and 180-Day Rolling Average of Cardano\",\n",
    "                                    legend = True)\n",
    "\n",
    "    df_merged[\"ADA\"].rolling(window=180).mean().plot(figsize = (12,12), legend = True).legend([\"ADA\",\"180-Day Rolling Average\"])\n",
    "    \n",
    "    return crypto_16"
   ]
  },
  {
   "cell_type": "code",
   "execution_count": 98,
   "id": "51e98303-d865-46ec-b6d4-e80dd76755fd",
   "metadata": {},
   "outputs": [],
   "source": [
    "def currency_17():\n",
    "\n",
    "    sol_plot = df_merged[\"SOL\"].plot(figsize = (12,12), subplots=True, \n",
    "                                 title=\"Daily Closing Price and 180-Day Rolling Average of Solana\",\n",
    "                                    legend = True)\n",
    "\n",
    "    df_merged[\"SOL\"].rolling(window=180).mean().plot(figsize = (12,12), legend = True).legend([\"SOL\",\"180-Day Rolling Average\"])\n",
    "\n",
    "    return crypto_17"
   ]
  },
  {
   "cell_type": "code",
   "execution_count": 99,
   "id": "58092b3a-5c0f-4077-9956-35ede75badda",
   "metadata": {},
   "outputs": [],
   "source": [
    "def currency_18():\n",
    "\n",
    "    # Plot simulation outcomes\n",
    "    line_plot = mcsimulation.plot_simulation()\n",
    "    \n",
    "    return crypto_18"
   ]
  },
  {
   "cell_type": "code",
   "execution_count": 114,
   "id": "df363e15",
   "metadata": {},
   "outputs": [
    {
     "ename": "SyntaxError",
     "evalue": "invalid syntax (672254568.py, line 46)",
     "output_type": "error",
     "traceback": [
      "\u001b[0;36m  File \u001b[0;32m\"/var/folders/_8/cmxyhkzx7sg1c09044h2t4000000gn/T/ipykernel_36490/672254568.py\"\u001b[0;36m, line \u001b[0;32m46\u001b[0m\n\u001b[0;31m    print(\"This was a project by Joey Dima, Juan Raigosa, Francis Ocran IV, and Thomas Guyton. 2022\")\u001b[0m\n\u001b[0m        ^\u001b[0m\n\u001b[0;31mSyntaxError\u001b[0m\u001b[0;31m:\u001b[0m invalid syntax\n"
     ]
    }
   ],
   "source": [
    "# Create a Title for the Dashboard\n",
    "# YOUR CODE HERE!\n",
    "Info = pn.pane.Markdown(\n",
    "\"\"\"\"\n",
    "    \n",
    "    Crypto Data ,\n",
    "    1- Your Portfolio,\n",
    "    2- Live Crypto Prices,\n",
    "    3- Futures and Forecasts,\n",
    "    4- About\n",
    "   \"\"\"\n",
    ")\n",
    "\n",
    "\n",
    "tab_1 = pn.Column(\n",
    "    (\"#Your Portfolio\"),\n",
    "    (\"#Holdings and Positions\"),\n",
    "    personal_crypto_data1,\n",
    "    personal_crypto_data2\n",
    ")\n",
    "\n",
    "tab_2 = pn.Column(\n",
    "    (\"#Live Market Watch\"),\n",
    "    (\"#Current Top Ten Currencies (CoinGecko)\"),\n",
    "    \n",
    "    #Top 10\n",
    "    crypto_currency1,\n",
    "    crypto_currency2,\n",
    "    crypto_currency3,\n",
    "    crypto_currency4,\n",
    "    crypto_currency5,\n",
    " \n",
    "    \n",
    "    (\"#Top 10 Most Expensive Neighborhoods\"),\n",
    "    top_most_expensive_neighborhoods\n",
    ")\n",
    "\n",
    "\n",
    "tab_3 = pn.Column(\n",
    "    (\"#Futures and Forecasts\"),\n",
    "    line_plot = MC_1_year.plot_simulation()\n",
    ")\n",
    "\n",
    "tab_4 = pn.Column(\n",
    "    (\"#About\")\n",
    "print(\"This was a project by Joey Dima, Juan Raigosa, Francis Ocran IV, and Thomas Guyton. 2022\")\n",
    ")\n",
    "\n",
    "\n",
    "# Create the dashboard\n",
    "# YOUR CODE HERE!\n",
    "panel = pn.Tabs(\n",
    "    (\"Crypto Data\",Info),\n",
    "    (\"Your Portfolio\", tab_1),\n",
    "    (\"Live Crypto Prices\", tab_2),\n",
    "    (\"Futures and Forecasts\", tab_3),\n",
    "    (\"About\", tab_4)\n",
    "    \n",
    ")\n",
    "\n",
    "###"
   ]
  },
  {
   "cell_type": "code",
   "execution_count": 120,
   "id": "ff50d6c5-6522-4d90-bdf7-3a44d2e37bb1",
   "metadata": {},
   "outputs": [],
   "source": [
    "mcsimulation = mcsimulation.drop_duplicates()"
   ]
  },
  {
   "cell_type": "code",
   "execution_count": 122,
   "id": "bcdb1e66-ad5b-4e2b-87a7-35b8d49e1eb1",
   "metadata": {},
   "outputs": [
    {
     "ename": "SyntaxError",
     "evalue": "invalid syntax (2558975629.py, line 3)",
     "output_type": "error",
     "traceback": [
      "\u001b[0;36m  File \u001b[0;32m\"/var/folders/_8/cmxyhkzx7sg1c09044h2t4000000gn/T/ipykernel_36490/2558975629.py\"\u001b[0;36m, line \u001b[0;32m3\u001b[0m\n\u001b[0;31m    ylim=(0,2)\u001b[0m\n\u001b[0m       ^\u001b[0m\n\u001b[0;31mSyntaxError\u001b[0m\u001b[0;31m:\u001b[0m invalid syntax\n"
     ]
    }
   ],
   "source": [
    "# Plot simulation outcomes\n",
    "mcsimulation.plot(legend=False, figsize=(15,15)\n",
    "                 ylim=(0,2)\n",
    "                 )\n",
    "    \n",
    "\n",
    "\n"
   ]
  },
  {
   "cell_type": "code",
   "execution_count": null,
   "id": "8c428315-9fa1-42bf-848a-54aad685d83b",
   "metadata": {},
   "outputs": [],
   "source": []
  },
  {
   "cell_type": "code",
   "execution_count": null,
   "id": "fde18ba3-20e4-4f67-a7fc-6d385cb15fac",
   "metadata": {},
   "outputs": [],
   "source": []
  }
 ],
 "metadata": {
  "kernelspec": {
   "display_name": "Python [conda env:pyvizenv]",
   "language": "python",
   "name": "conda-env-pyvizenv-py"
  },
  "language_info": {
   "codemirror_mode": {
    "name": "ipython",
    "version": 3
   },
   "file_extension": ".py",
   "mimetype": "text/x-python",
   "name": "python",
   "nbconvert_exporter": "python",
   "pygments_lexer": "ipython3",
   "version": "3.7.11"
  }
 },
 "nbformat": 4,
 "nbformat_minor": 5
}
